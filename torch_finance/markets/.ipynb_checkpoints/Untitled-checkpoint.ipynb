{
 "cells": [
  {
   "cell_type": "code",
   "execution_count": 1,
   "id": "95de635e",
   "metadata": {},
   "outputs": [],
   "source": [
    "import torch\n",
    "\n",
    "class ZeroCouponBond:\n",
    "    \n",
    "    def __init__(self,\n",
    "                face_value: torch.tensor,\n",
    "                annual_yield: torch.tensor,\n",
    "                time_to_maturity: torch.tensor):\n",
    "        \"\"\"\n",
    "        :param face_value: face value of the bond.\n",
    "        :param annual_yield: annual yield or rate of the bond.\n",
    "        :param time_to_maturity: time to maturity, in years.\n",
    "        \n",
    "        \"\"\"\n",
    "        \n",
    "        self.face_value = face_value\n",
    "        self.annual_yield = annual_yield\n",
    "        self.time_to_maturity = time_to_maturity\n",
    "        \n",
    "    def price(self):\n",
    "        \n",
    "        return self.face_value/((1+self.annual_yield)**self.time_to_maturity)"
   ]
  },
  {
   "cell_type": "code",
   "execution_count": 2,
   "id": "679f09cc",
   "metadata": {},
   "outputs": [],
   "source": [
    "face_value = torch.tensor([100, 200])\n",
    "annual_yield = torch.tensor([0.05, 0.1])\n",
    "time_to_maturity = torch.tensor([5, 8])"
   ]
  },
  {
   "cell_type": "code",
   "execution_count": 3,
   "id": "18471de5",
   "metadata": {},
   "outputs": [],
   "source": [
    "z = ZeroCouponBond(face_value = face_value,\n",
    "                   annual_yield = annual_yield,\n",
    "                   time_to_maturity = time_to_maturity)"
   ]
  },
  {
   "cell_type": "code",
   "execution_count": 4,
   "id": "2df27802",
   "metadata": {},
   "outputs": [
    {
     "data": {
      "text/plain": [
       "[78.3526382446289, 93.30146026611328]"
      ]
     },
     "execution_count": 4,
     "metadata": {},
     "output_type": "execute_result"
    }
   ],
   "source": [
    "z.price().tolist()"
   ]
  },
  {
   "cell_type": "code",
   "execution_count": 15,
   "id": "b345c5d3",
   "metadata": {},
   "outputs": [
    {
     "data": {
      "text/plain": [
       "[78.3526382446289, 93.30146026611328]"
      ]
     },
     "execution_count": 15,
     "metadata": {},
     "output_type": "execute_result"
    }
   ],
   "source": [
    "z.price().tolist()"
   ]
  },
  {
   "cell_type": "code",
   "execution_count": 2,
   "id": "63b5bc93",
   "metadata": {},
   "outputs": [],
   "source": [
    "def zero_coupon_bond(par, y, t):\n",
    "    return par/(1+y)**t"
   ]
  },
  {
   "cell_type": "code",
   "execution_count": 3,
   "id": "9cd92ec2",
   "metadata": {},
   "outputs": [
    {
     "name": "stdout",
     "output_type": "stream",
     "text": [
      "78.35261664684589\n",
      "93.30147604194661\n"
     ]
    }
   ],
   "source": [
    "print(zero_coupon_bond(100, 0.05, 5))\n",
    "print(zero_coupon_bond(200, 0.1, 8))"
   ]
  },
  {
   "cell_type": "code",
   "execution_count": 5,
   "id": "2b1a8728",
   "metadata": {},
   "outputs": [
    {
     "name": "stdout",
     "output_type": "stream",
     "text": [
      "78.35261664684589\n",
      "93.30147604194661\n"
     ]
    }
   ],
   "source": [
    "print(zero_coupon_bond(100, 0.05, 5))\n",
    "print(zero_coupon_bond(200, 0.1, 8))"
   ]
  },
  {
   "cell_type": "code",
   "execution_count": null,
   "id": "63178c10",
   "metadata": {},
   "outputs": [],
   "source": []
  }
 ],
 "metadata": {
  "kernelspec": {
   "display_name": "Python 3",
   "language": "python",
   "name": "python3"
  },
  "language_info": {
   "codemirror_mode": {
    "name": "ipython",
    "version": 3
   },
   "file_extension": ".py",
   "mimetype": "text/x-python",
   "name": "python",
   "nbconvert_exporter": "python",
   "pygments_lexer": "ipython3",
   "version": "3.7.3"
  }
 },
 "nbformat": 4,
 "nbformat_minor": 5
}
