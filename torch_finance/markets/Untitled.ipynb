{
 "cells": [
  {
   "cell_type": "code",
   "execution_count": 1,
   "id": "b3f8dec7",
   "metadata": {},
   "outputs": [],
   "source": [
    "import torch"
   ]
  },
  {
   "cell_type": "code",
   "execution_count": 63,
   "id": "d38fdd0e",
   "metadata": {},
   "outputs": [],
   "source": [
    "class ForwardRatess(object):\n",
    "    \n",
    "    def __init__(self, periods, spot_rates):\n",
    "        \n",
    "        periods, indices = torch.sort(periods)\n",
    "        spot_rates = spot_rates[indices]\n",
    "        self.spot_rates = dict(zip(periods.tolist(), spot_rates.tolist()))\n",
    "        self.forward_rates = []\n",
    "                \n",
    "    def get_forward_rates(self):\n",
    "        \n",
    "        \"\"\"\n",
    "        Returns a list of forward rates\n",
    "        starting from the second time period.\n",
    "        \"\"\"\n",
    "        \n",
    "        times = sorted(self.spot_rates.keys())\n",
    "        \n",
    "        for T1, T2 in zip(times, times[1:]):\n",
    "            R1 = self.spot_rates[T1]\n",
    "            R2 = self.spot_rates[T2]\n",
    "            forward_rate = (R2*T2-R1*T1)/(T2-T1)\n",
    "            self.forward_rates.append(forward_rate)\n",
    "        \n",
    "        return torch.tensor(self.forward_rates)"
   ]
  },
  {
   "cell_type": "code",
   "execution_count": 66,
   "id": "6f0550c7",
   "metadata": {},
   "outputs": [
    {
     "data": {
      "text/plain": [
       "[10.810999870300293, 10.60300064086914, 10.970998764038086, 11.18899917602539]"
      ]
     },
     "execution_count": 66,
     "metadata": {},
     "output_type": "execute_result"
    }
   ],
   "source": [
    "periods = torch.tensor([0.25, 0.50, 1.00, 2.00, 1.50,])\n",
    "spot_rates = torch.tensor([10.127, 10.469, 10.536, 10.808, 10.681])\n",
    "\n",
    "fr = ForwardRatess(periods, spot_rates)\n",
    "fr.get_forward_rates().tolist()"
   ]
  },
  {
   "cell_type": "code",
   "execution_count": 6,
   "id": "3747edac",
   "metadata": {},
   "outputs": [],
   "source": [
    "class ForwardRates(object):\n",
    "    \n",
    "    def __init__(self):\n",
    "        \n",
    "        self.forward_rates = []\n",
    "        self.spot_rates = dict()\n",
    "    \n",
    "    def add_spot_rate(self, T, spot_rate):\n",
    "        self.spot_rates[T] = spot_rate\n",
    "    \n",
    "    def get_forward_rates(self):\n",
    "        \n",
    "        \"\"\"\n",
    "        Returns a list of forward rates\n",
    "        starting from the second time period.\n",
    "        \"\"\"\n",
    "        periods = sorted(self.spot_rates.keys())\n",
    "        for T2, T1 in zip(periods, periods[1:]):\n",
    "            forward_rate = self.calculate_forward_rate(T1, T2)\n",
    "            self.forward_rates.append(forward_rate)\n",
    "        \n",
    "        return self.forward_rates\n",
    "    \n",
    "    def calculate_forward_rate(self, T1, T2):\n",
    "        R1 = self.spot_rates[T1]\n",
    "        R2 = self.spot_rates[T2]\n",
    "        forward_rate = (R2*T2-R1*T1)/(T2-T1)\n",
    "        return forward_rate"
   ]
  },
  {
   "cell_type": "code",
   "execution_count": 67,
   "id": "2c15378c",
   "metadata": {},
   "outputs": [
    {
     "name": "stdout",
     "output_type": "stream",
     "text": [
      "[10.810999999999998, 10.603, 10.971, 11.189]\n"
     ]
    }
   ],
   "source": [
    "fr = ForwardRates()\n",
    "\n",
    "fr.add_spot_rate(0.25, 10.127)\n",
    "fr.add_spot_rate(0.50, 10.469)\n",
    "fr.add_spot_rate(1.00, 10.536)\n",
    "fr.add_spot_rate(1.50, 10.681)\n",
    "fr.add_spot_rate(2.00, 10.808)\n",
    "\n",
    "print(fr.get_forward_rates())"
   ]
  },
  {
   "cell_type": "code",
   "execution_count": 56,
   "id": "aae01d09",
   "metadata": {},
   "outputs": [
    {
     "data": {
      "text/plain": [
       "[(1, 4), (2, 5)]"
      ]
     },
     "execution_count": 56,
     "metadata": {},
     "output_type": "execute_result"
    }
   ],
   "source": [
    "a = [1, 2, 3]\n",
    "b = [4, 5]\n",
    "\n",
    "list(zip(a, b))"
   ]
  },
  {
   "cell_type": "code",
   "execution_count": null,
   "id": "afab47d2",
   "metadata": {},
   "outputs": [],
   "source": []
  }
 ],
 "metadata": {
  "kernelspec": {
   "display_name": "Python 3",
   "language": "python",
   "name": "python3"
  },
  "language_info": {
   "codemirror_mode": {
    "name": "ipython",
    "version": 3
   },
   "file_extension": ".py",
   "mimetype": "text/x-python",
   "name": "python",
   "nbconvert_exporter": "python",
   "pygments_lexer": "ipython3",
   "version": "3.7.3"
  }
 },
 "nbformat": 4,
 "nbformat_minor": 5
}
