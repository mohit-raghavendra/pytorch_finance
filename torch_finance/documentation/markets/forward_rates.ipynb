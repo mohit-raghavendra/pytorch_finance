{
 "cells": [
  {
   "cell_type": "code",
   "execution_count": 2,
   "id": "acb501db",
   "metadata": {},
   "outputs": [],
   "source": [
    "import torch\n",
    "\n",
    "from torch_finance.markets.forward_rates import ForwardRates"
   ]
  },
  {
   "cell_type": "code",
   "execution_count": 4,
   "id": "b528fb70",
   "metadata": {},
   "outputs": [],
   "source": [
    "#Create tensors for the spot rates\n",
    "#T1=0.25, spot_rate1=10.127\n",
    "#T2=0.50, spot_rate2=10.469\n",
    "#T3=1.00, spot_rate3=10.536\n",
    "#T4=2.00, spot_rate4=10.808\n",
    "#T5=1.50, spot_rate5=10.681\n",
    "\n",
    "periods = torch.tensor([0.25, 0.50, 1.00, 2.00, 1.50,])\n",
    "spot_rates = torch.tensor([10.127, 10.469, 10.536, 10.808, 10.681])"
   ]
  },
  {
   "cell_type": "code",
   "execution_count": 5,
   "id": "510718fd",
   "metadata": {},
   "outputs": [
    {
     "data": {
      "text/plain": [
       "tensor([10.8110, 10.6030, 10.9710, 11.1890])"
      ]
     },
     "execution_count": 5,
     "metadata": {},
     "output_type": "execute_result"
    }
   ],
   "source": [
    "fr = ForwardRates(periods, spot_rates)\n",
    "fr.get_forward_rates()"
   ]
  }
 ],
 "metadata": {
  "kernelspec": {
   "display_name": "Python 3",
   "language": "python",
   "name": "python3"
  },
  "language_info": {
   "codemirror_mode": {
    "name": "ipython",
    "version": 3
   },
   "file_extension": ".py",
   "mimetype": "text/x-python",
   "name": "python",
   "nbconvert_exporter": "python",
   "pygments_lexer": "ipython3",
   "version": "3.7.3"
  }
 },
 "nbformat": 4,
 "nbformat_minor": 5
}
