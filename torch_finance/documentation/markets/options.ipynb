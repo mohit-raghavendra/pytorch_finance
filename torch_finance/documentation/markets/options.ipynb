{
 "cells": [
  {
   "cell_type": "code",
   "execution_count": 7,
   "id": "720dd90d",
   "metadata": {},
   "outputs": [],
   "source": [
    "import torch\n",
    "\n",
    "from torch_finance.markets.options import BinomialEuropeanOption"
   ]
  },
  {
   "cell_type": "code",
   "execution_count": 8,
   "id": "637220bb",
   "metadata": {},
   "outputs": [],
   "source": [
    "initial_price = torch.tensor([50, 50])\n",
    "strike_price = torch.tensor([52, 52])\n",
    "r = torch.tensor([0.05, 0.05])\n",
    "prob_up = torch.tensor([0.2, 0.2])\n",
    "prob_down = torch.tensor([0.2, 0.2]) \n",
    "is_put = torch.tensor([True, False])\n",
    "time_to_maturity = 2\n",
    "no_timesteps = 2\n"
   ]
  },
  {
   "cell_type": "code",
   "execution_count": 10,
   "id": "b2f91130",
   "metadata": {},
   "outputs": [],
   "source": [
    "eu_option = BinomialEuropeanOption(initial_price=initial_price, \n",
    "                               strike_price=strike_price, \n",
    "                               r=r, \n",
    "                               is_put=is_put,\n",
    "                               time_to_maturity=time_to_maturity, \n",
    "                               no_timesteps=no_timesteps, \n",
    "                               prob_up=prob_up, \n",
    "                               prob_down=prob_down)\n",
    "\n",
    "    "
   ]
  },
  {
   "cell_type": "code",
   "execution_count": 11,
   "id": "24b6b331",
   "metadata": {},
   "outputs": [
    {
     "data": {
      "text/plain": [
       "tensor([4.1927, 7.1411])"
      ]
     },
     "execution_count": 11,
     "metadata": {},
     "output_type": "execute_result"
    }
   ],
   "source": [
    "eu_option.price()"
   ]
  }
 ],
 "metadata": {
  "kernelspec": {
   "display_name": "Python 3",
   "language": "python",
   "name": "python3"
  },
  "language_info": {
   "codemirror_mode": {
    "name": "ipython",
    "version": 3
   },
   "file_extension": ".py",
   "mimetype": "text/x-python",
   "name": "python",
   "nbconvert_exporter": "python",
   "pygments_lexer": "ipython3",
   "version": "3.7.3"
  }
 },
 "nbformat": 4,
 "nbformat_minor": 5
}
