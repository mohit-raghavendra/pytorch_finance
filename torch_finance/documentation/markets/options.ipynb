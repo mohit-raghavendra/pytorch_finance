{
 "cells": [
  {
   "cell_type": "code",
   "execution_count": 2,
   "id": "fdad2893",
   "metadata": {},
   "outputs": [],
   "source": [
    "import torch\n",
    "\n",
    "from torch_finance.markets.options import BinomialEuropeanOption"
   ]
  },
  {
   "cell_type": "code",
   "execution_count": 3,
   "id": "705fc2e5",
   "metadata": {},
   "outputs": [],
   "source": [
    "#Create a batch of Binomial European options\n",
    "\n",
    "#Option1-> initial_price=50, strike_price=52, r=0.05, prob_up=0.2, prob_down=0.2, is_put=True\n",
    "#Option2-> initial_price=100, strike_price=102, r=0.05, prob_up=0.3, prob_down=0.4, is_put=False\n",
    "\n",
    "#time_to_maturity=2\n",
    "#no_timesteps=2\n",
    "\n",
    "initial_price = torch.tensor([50, 100])\n",
    "strike_price = torch.tensor([52, 102])\n",
    "r = torch.tensor([0.05, 0.05])\n",
    "prob_up = torch.tensor([0.2, 0.3])\n",
    "prob_down = torch.tensor([0.2, 0.4]) \n",
    "is_put = torch.tensor([True, False])\n",
    "time_to_maturity = 2\n",
    "no_timesteps = 2\n"
   ]
  },
  {
   "cell_type": "code",
   "execution_count": 5,
   "id": "2567d995",
   "metadata": {},
   "outputs": [
    {
     "data": {
      "text/plain": [
       "tensor([ 4.1039, 23.9227])"
      ]
     },
     "execution_count": 5,
     "metadata": {},
     "output_type": "execute_result"
    }
   ],
   "source": [
    "eu_option = BinomialEuropeanOption(initial_price=initial_price, \n",
    "                               strike_price=strike_price, \n",
    "                               r=r, \n",
    "                               is_put=is_put,\n",
    "                               time_to_maturity=time_to_maturity, \n",
    "                               no_timesteps=no_timesteps, \n",
    "                               prob_up=prob_up, \n",
    "                               prob_down=prob_down)\n",
    "\n",
    "eu_option.price()"
   ]
  }
 ],
 "metadata": {
  "kernelspec": {
   "display_name": "Python 3",
   "language": "python",
   "name": "python3"
  },
  "language_info": {
   "codemirror_mode": {
    "name": "ipython",
    "version": 3
   },
   "file_extension": ".py",
   "mimetype": "text/x-python",
   "name": "python",
   "nbconvert_exporter": "python",
   "pygments_lexer": "ipython3",
   "version": "3.7.3"
  }
 },
 "nbformat": 4,
 "nbformat_minor": 5
}
