{
 "cells": [
  {
   "cell_type": "code",
   "execution_count": 6,
   "id": "e8d0e0a9",
   "metadata": {
    "scrolled": true
   },
   "outputs": [],
   "source": [
    "import torch\n",
    "\n",
    "from torch_finance.markets.bonds import ZeroCouponBond"
   ]
  },
  {
   "cell_type": "code",
   "execution_count": 4,
   "id": "573a9fbc",
   "metadata": {},
   "outputs": [],
   "source": [
    "#Create a batch of zero coupon bonds\n",
    "#bond1 -> face_value=100, annual_yield=0.05, time_to_maturity=5\n",
    "#bond2 -> face_value=200, annual_yield=0.10, time_to_maturity=8\n",
    "\n",
    "face_value = torch.tensor([100, 200])\n",
    "annual_yield = torch.tensor([0.05, 0.1])\n",
    "time_to_maturity = torch.tensor([5, 8])"
   ]
  },
  {
   "cell_type": "code",
   "execution_count": 5,
   "id": "bccc08c9",
   "metadata": {},
   "outputs": [
    {
     "data": {
      "text/plain": [
       "tensor([78.3526, 93.3015])"
      ]
     },
     "execution_count": 5,
     "metadata": {},
     "output_type": "execute_result"
    }
   ],
   "source": [
    "zero_coupon_bonds = ZeroCouponBond(face_value = face_value, \n",
    "                   annual_yield = annual_yield, \n",
    "                   time_to_maturity = time_to_maturity)\n",
    "\n",
    "zero_coupon_bonds.price()"
   ]
  }
 ],
 "metadata": {
  "kernelspec": {
   "display_name": "Python 3",
   "language": "python",
   "name": "python3"
  },
  "language_info": {
   "codemirror_mode": {
    "name": "ipython",
    "version": 3
   },
   "file_extension": ".py",
   "mimetype": "text/x-python",
   "name": "python",
   "nbconvert_exporter": "python",
   "pygments_lexer": "ipython3",
   "version": "3.7.3"
  }
 },
 "nbformat": 4,
 "nbformat_minor": 5
}
