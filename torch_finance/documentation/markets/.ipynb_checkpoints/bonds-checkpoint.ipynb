{
 "cells": [
  {
   "cell_type": "markdown",
   "id": "5317df1e",
   "metadata": {},
   "source": [
    "### Bonds"
   ]
  },
  {
   "cell_type": "code",
   "execution_count": 17,
   "id": "fa53f572",
   "metadata": {},
   "outputs": [],
   "source": [
    "from torch_finance.markets.bonds import Bond"
   ]
  },
  {
   "cell_type": "code",
   "execution_count": 18,
   "id": "7f9c6146",
   "metadata": {},
   "outputs": [],
   "source": [
    "#Create a batch of bonds\n",
    "#bond1 -> face_value=100, time_to_maturity=1.5, yield_to_maturity=0.01, coupon_value=5.75, frequency=2\n",
    "#bond2 -> face_value=200, time_to_maturity=2.0, yield_to_maturity=0.02, coupon_value=10, frequency=4\n",
    "\n",
    "face_value = torch.tensor([100, 200])\n",
    "time_to_maturity = torch.tensor([1.5, 2.0])\n",
    "yield_to_maturity = torch.tensor([0.01, 0.02])\n",
    "coupon_value = torch.tensor([5.75, 10])\n",
    "frequency = torch.tensor([2, 4])"
   ]
  },
  {
   "cell_type": "code",
   "execution_count": 19,
   "id": "3ad2fe21",
   "metadata": {},
   "outputs": [],
   "source": [
    "bonds = Bond(face_value=face_value,\n",
    "             time_to_maturity=time_to_maturity,\n",
    "             yield_to_maturity=yield_to_maturity,\n",
    "             coupon_value=coupon_value,\n",
    "             frequency=frequency)"
   ]
  },
  {
   "cell_type": "code",
   "execution_count": 20,
   "id": "a895a1c3",
   "metadata": {},
   "outputs": [
    {
     "data": {
      "text/plain": [
       "tensor([107.0543, 211.9295])"
      ]
     },
     "execution_count": 20,
     "metadata": {},
     "output_type": "execute_result"
    }
   ],
   "source": [
    "bonds.price()"
   ]
  },
  {
   "cell_type": "markdown",
   "id": "63c5db34",
   "metadata": {},
   "source": [
    "### Zero Coupon Bonds"
   ]
  },
  {
   "cell_type": "code",
   "execution_count": 21,
   "id": "7c03f585",
   "metadata": {
    "scrolled": true
   },
   "outputs": [],
   "source": [
    "import torch\n",
    "\n",
    "from torch_finance.markets.bonds import ZeroCouponBond"
   ]
  },
  {
   "cell_type": "code",
   "execution_count": 22,
   "id": "96100b88",
   "metadata": {},
   "outputs": [],
   "source": [
    "#Create a batch of zero coupon bonds\n",
    "#bond1 -> face_value=100, annual_yield=0.05, time_to_maturity=5\n",
    "#bond2 -> face_value=200, annual_yield=0.10, time_to_maturity=8\n",
    "\n",
    "face_value = torch.tensor([100, 200])\n",
    "annual_yield = torch.tensor([0.05, 0.1])\n",
    "time_to_maturity = torch.tensor([5, 8])"
   ]
  },
  {
   "cell_type": "code",
   "execution_count": 23,
   "id": "bd1bd473",
   "metadata": {},
   "outputs": [
    {
     "data": {
      "text/plain": [
       "tensor([78.3526, 93.3015])"
      ]
     },
     "execution_count": 23,
     "metadata": {},
     "output_type": "execute_result"
    }
   ],
   "source": [
    "zero_coupon_bonds = ZeroCouponBond(face_value = face_value, \n",
    "                   annual_yield = annual_yield, \n",
    "                   time_to_maturity = time_to_maturity)\n",
    "\n",
    "zero_coupon_bonds.price()"
   ]
  },
  {
   "cell_type": "code",
   "execution_count": null,
   "id": "10e1ca1d",
   "metadata": {},
   "outputs": [],
   "source": []
  }
 ],
 "metadata": {
  "kernelspec": {
   "display_name": "Python 3",
   "language": "python",
   "name": "python3"
  },
  "language_info": {
   "codemirror_mode": {
    "name": "ipython",
    "version": 3
   },
   "file_extension": ".py",
   "mimetype": "text/x-python",
   "name": "python",
   "nbconvert_exporter": "python",
   "pygments_lexer": "ipython3",
   "version": "3.7.3"
  }
 },
 "nbformat": 4,
 "nbformat_minor": 5
}
